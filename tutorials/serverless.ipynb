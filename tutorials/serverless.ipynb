{
 "cells": [
  {
   "cell_type": "markdown",
   "metadata": {},
   "source": [
    "# Introduction to Federated Learning with CIFAR10\n",
    "\n",
    "```\n",
    "TODO: rdar://118980539 (when external docs are hosted, change all pointers to it)\n",
    "```\n",
    "\n",
    "This tutorial demonstrates how to train a DNN with `pfl` using Private Federated Learning.\n",
    "We will learn how to train a simple neural network in simulation to classify images from the CIFAR10 dataset.\n",
    "This dataset contains images of 10 different types of objects.\n",
    "Each image is labelled with one object. The dataset is not inherently split into real users, so we have to create artificial user partitions.\n",
    "\n",
    "This tutorial is in TensorFlow. If you are looking for a more advanced tutorial in PyTorch, check out [this tutorial](https://github.com/apple/pfl-research/tree/main/tutorials/Introduction%20to%20PFL%20research%20with%20FLAIR.ipynb).\n"
   ]
  },
  {
   "cell_type": "markdown",
   "metadata": {},
   "source": [
    "## 0. Install environment & `pfl`\n",
    "\n",
    "To use this notebook, follow these prerequisite steps:\n",
    "\n",
    "```\n",
    "TODO: change instructions when put on colab rdar://105243072 (Make a colab notebook available for training CIFAR10)\n",
    "```\n",
    "\n",
    "1. Follow installation instructions at https://github.com/apple/pfl-research/blob/main/benchmarks/README.md#setup-environment\n",
    "2. Add the kernel created by Poetry to the notebook:\n",
    "\n",
    "```\n",
    "pip install jupyter\n",
    "python -m ipykernel install --name \"notebook-tutorial\"\n",
    "```\n",
    "\n",
    "4. Start the notebook:\n",
    "\n",
    "```\n",
    "python -m jupyter notebook\n",
    "```\n"
   ]
  },
  {
   "cell_type": "code",
   "execution_count": 1,
   "metadata": {},
   "outputs": [
    {
     "name": "stdout",
     "output_type": "stream",
     "text": [
      "Requirement already satisfied: matplotlib in /home/pdymara/.cache/pypoetry/virtualenvs/pfl-benchmarks-1et6TfbS-py3.10/lib/python3.10/site-packages (3.9.0)\n",
      "Requirement already satisfied: nest_asyncio in /home/pdymara/.cache/pypoetry/virtualenvs/pfl-benchmarks-1et6TfbS-py3.10/lib/python3.10/site-packages (1.6.0)\n",
      "Requirement already satisfied: contourpy>=1.0.1 in /home/pdymara/.cache/pypoetry/virtualenvs/pfl-benchmarks-1et6TfbS-py3.10/lib/python3.10/site-packages (from matplotlib) (1.2.1)\n",
      "Requirement already satisfied: cycler>=0.10 in /home/pdymara/.cache/pypoetry/virtualenvs/pfl-benchmarks-1et6TfbS-py3.10/lib/python3.10/site-packages (from matplotlib) (0.12.1)\n",
      "Requirement already satisfied: fonttools>=4.22.0 in /home/pdymara/.cache/pypoetry/virtualenvs/pfl-benchmarks-1et6TfbS-py3.10/lib/python3.10/site-packages (from matplotlib) (4.52.1)\n",
      "Requirement already satisfied: kiwisolver>=1.3.1 in /home/pdymara/.cache/pypoetry/virtualenvs/pfl-benchmarks-1et6TfbS-py3.10/lib/python3.10/site-packages (from matplotlib) (1.4.5)\n",
      "Requirement already satisfied: numpy>=1.23 in /home/pdymara/.cache/pypoetry/virtualenvs/pfl-benchmarks-1et6TfbS-py3.10/lib/python3.10/site-packages (from matplotlib) (1.26.0)\n",
      "Requirement already satisfied: packaging>=20.0 in /home/pdymara/.cache/pypoetry/virtualenvs/pfl-benchmarks-1et6TfbS-py3.10/lib/python3.10/site-packages (from matplotlib) (23.2)\n",
      "Requirement already satisfied: pillow>=8 in /home/pdymara/.cache/pypoetry/virtualenvs/pfl-benchmarks-1et6TfbS-py3.10/lib/python3.10/site-packages (from matplotlib) (10.2.0)\n",
      "Requirement already satisfied: pyparsing>=2.3.1 in /home/pdymara/.cache/pypoetry/virtualenvs/pfl-benchmarks-1et6TfbS-py3.10/lib/python3.10/site-packages (from matplotlib) (3.1.2)\n",
      "Requirement already satisfied: python-dateutil>=2.7 in /home/pdymara/.cache/pypoetry/virtualenvs/pfl-benchmarks-1et6TfbS-py3.10/lib/python3.10/site-packages (from matplotlib) (2.8.2)\n",
      "Requirement already satisfied: six>=1.5 in /home/pdymara/.cache/pypoetry/virtualenvs/pfl-benchmarks-1et6TfbS-py3.10/lib/python3.10/site-packages (from python-dateutil>=2.7->matplotlib) (1.16.0)\n",
      "\n",
      "\u001b[1m[\u001b[0m\u001b[34;49mnotice\u001b[0m\u001b[1;39;49m]\u001b[0m\u001b[39;49m A new release of pip is available: \u001b[0m\u001b[31;49m24.0\u001b[0m\u001b[39;49m -> \u001b[0m\u001b[32;49m24.1\u001b[0m\n",
      "\u001b[1m[\u001b[0m\u001b[34;49mnotice\u001b[0m\u001b[1;39;49m]\u001b[0m\u001b[39;49m To update, run: \u001b[0m\u001b[32;49mpip install --upgrade pip\u001b[0m\n"
     ]
    }
   ],
   "source": [
    "import sys\n",
    "import os\n",
    "\n",
    "# Additional packages needed to run notebook\n",
    "!{sys.executable} -m pip install matplotlib nest_asyncio"
   ]
  },
  {
   "cell_type": "markdown",
   "metadata": {},
   "source": [
    "<div class=\"alert alert-block alert-warning\">\n",
    "If you installed the packages above, you need to restart the kernel of the notebook by clicking on \"Kernel -> Restart\"\n",
    "</div>\n"
   ]
  },
  {
   "cell_type": "markdown",
   "metadata": {},
   "source": [
    "## 1. Preparing data for simulations\n"
   ]
  },
  {
   "cell_type": "markdown",
   "metadata": {},
   "source": [
    "Use the script `pfl-research/dataset/cifar10/download_preprocess.py` to download the CIFAR10 dataset from its original source and preprocess into pickles:\n"
   ]
  },
  {
   "cell_type": "code",
   "execution_count": 2,
   "metadata": {
    "scrolled": true
   },
   "outputs": [
    {
     "name": "stdout",
     "output_type": "stream",
     "text": [
      "Found ./data/cifar10/raw_data/cifar-10-python.tar.gz on disk, skip download\n",
      "Merging files ['./data/cifar10/raw_data/cifar-10-batches-py/data_batch_1', './data/cifar10/raw_data/cifar-10-batches-py/data_batch_2', './data/cifar10/raw_data/cifar-10-batches-py/data_batch_3', './data/cifar10/raw_data/cifar-10-batches-py/data_batch_4', './data/cifar10/raw_data/cifar-10-batches-py/data_batch_5'].\n",
      "Saved processed data to ./data/cifar10/cifar10_train.p\n",
      "Merging files ['./data/cifar10/raw_data/cifar-10-batches-py/test_batch'].\n",
      "Saved processed data to ./data/cifar10/cifar10_test.p\n"
     ]
    }
   ],
   "source": [
    "# sys.path.append(os.path.abspath('..'))\n",
    "# print(sys.path)\n",
    "!(cd ../benchmarks; {sys.executable} -m dataset.cifar10.download_preprocess --output_dir ./data/cifar10)"
   ]
  },
  {
   "cell_type": "code",
   "execution_count": 3,
   "metadata": {},
   "outputs": [
    {
     "name": "stderr",
     "output_type": "stream",
     "text": [
      "2024-06-23 18:57:23.145406: I tensorflow/tsl/cuda/cudart_stub.cc:28] Could not find cuda drivers on your machine, GPU will not be used.\n",
      "2024-06-23 18:57:23.335930: E tensorflow/compiler/xla/stream_executor/cuda/cuda_dnn.cc:9342] Unable to register cuDNN factory: Attempting to register factory for plugin cuDNN when one has already been registered\n",
      "2024-06-23 18:57:23.335977: E tensorflow/compiler/xla/stream_executor/cuda/cuda_fft.cc:609] Unable to register cuFFT factory: Attempting to register factory for plugin cuFFT when one has already been registered\n",
      "2024-06-23 18:57:23.338907: E tensorflow/compiler/xla/stream_executor/cuda/cuda_blas.cc:1518] Unable to register cuBLAS factory: Attempting to register factory for plugin cuBLAS when one has already been registered\n",
      "2024-06-23 18:57:23.531731: I tensorflow/tsl/cuda/cudart_stub.cc:28] Could not find cuda drivers on your machine, GPU will not be used.\n",
      "2024-06-23 18:57:23.533381: I tensorflow/core/platform/cpu_feature_guard.cc:182] This TensorFlow binary is optimized to use available CPU instructions in performance-critical operations.\n",
      "To enable the following instructions: AVX2 FMA, in other operations, rebuild TensorFlow with the appropriate compiler flags.\n",
      "2024-06-23 18:57:25.283082: W tensorflow/compiler/tf2tensorrt/utils/py_utils.cc:38] TF-TRT Warning: Could not find TensorRT\n"
     ]
    },
    {
     "name": "stdout",
     "output_type": "stream",
     "text": [
      "WARNING:tensorflow:From /mnt/c/Users/Pawel/Coding/STUDIA/magisterus/fedless_new/pfl-research/pfl/internal/ops/tensorflow_ops.py:112: is_gpu_available (from tensorflow.python.framework.test_util) is deprecated and will be removed in a future version.\n",
      "Instructions for updating:\n",
      "Use `tf.config.list_physical_devices('GPU')` instead.\n"
     ]
    },
    {
     "name": "stderr",
     "output_type": "stream",
     "text": [
      "2024-06-23 18:57:29.899254: I tensorflow/compiler/xla/stream_executor/cuda/cuda_gpu_executor.cc:880] could not open file to read NUMA node: /sys/bus/pci/devices/0000:01:00.0/numa_node\n",
      "Your kernel may have been built without NUMA support.\n",
      "2024-06-23 18:57:29.900068: W tensorflow/core/common_runtime/gpu/gpu_device.cc:2211] Cannot dlopen some GPU libraries. Please make sure the missing libraries mentioned above are installed properly if you would like to use GPU. Follow the guide at https://www.tensorflow.org/install/gpu for how to download and setup the required libraries for your platform.\n",
      "Skipping registering GPU devices...\n",
      "2024-06-23 18:57:30.099505: I tensorflow/compiler/xla/stream_executor/cuda/cuda_gpu_executor.cc:880] could not open file to read NUMA node: /sys/bus/pci/devices/0000:01:00.0/numa_node\n",
      "Your kernel may have been built without NUMA support.\n",
      "2024-06-23 18:57:30.099529: W tensorflow/core/common_runtime/gpu/gpu_device.cc:2211] Cannot dlopen some GPU libraries. Please make sure the missing libraries mentioned above are installed properly if you would like to use GPU. Follow the guide at https://www.tensorflow.org/install/gpu for how to download and setup the required libraries for your platform.\n",
      "Skipping registering GPU devices...\n"
     ]
    }
   ],
   "source": [
    "import matplotlib.pyplot as plt\n",
    "import numpy as np\n",
    "import sys\n",
    "import tensorflow as tf\n",
    "\n",
    "# Both Jupyter and `pfl` uses async, nest_asyncio allows `pfl` to run inside the notebook\n",
    "import nest_asyncio\n",
    "\n",
    "nest_asyncio.apply()\n",
    "\n",
    "# append the root directory to your paths to be able to reach the examples.\n",
    "sys.path.append(\"../benchmarks\")\n",
    "tf.random.set_seed(7)\n",
    "np.random.seed(7)\n",
    "\n",
    "# Always import the `pfl` model first to let `pfl` know which Deep Learning framework you will use.\n",
    "from pfl.model.tensorflow import TFModel"
   ]
  },
  {
   "cell_type": "code",
   "execution_count": 4,
   "metadata": {},
   "outputs": [
    {
     "name": "stdout",
     "output_type": "stream",
     "text": [
      "Train data shapes: features: (10000, 32, 32, 3) targets: (10000, 10)\n",
      "Dev data shapes:   features: (2000, 32, 32, 3) targets: (2000, 10)\n"
     ]
    }
   ],
   "source": [
    "from dataset.cifar10 import load_and_preprocess\n",
    "\n",
    "# Train only on classes 0 and 2 in this example\n",
    "exclude_classes = [1, 3, 4, 5, 6, 7, 8, 9]\n",
    "train_images, train_labels, channel_means, channel_stddevs = load_and_preprocess(\n",
    "    \"../benchmarks/data/cifar10/cifar10_train.p\", exclude_classes=exclude_classes\n",
    ")\n",
    "val_images, val_labels, _, _ = load_and_preprocess(\n",
    "    \"../benchmarks/data/cifar10/cifar10_test.p\", channel_means, channel_stddevs, exclude_classes=exclude_classes\n",
    ")\n",
    "# Convert labels to one-hot vectors.\n",
    "one_hots = np.eye(10)\n",
    "train_labels = one_hots[train_labels].squeeze()\n",
    "val_labels = one_hots[val_labels].squeeze()\n",
    "\n",
    "print(\"Train data shapes:\", \"features:\", train_images.shape, \"targets:\", train_labels.shape)\n",
    "print(\"Dev data shapes:  \", \"features:\", val_images.shape, \"targets:\", val_labels.shape)"
   ]
  },
  {
   "cell_type": "markdown",
   "metadata": {},
   "source": [
    "As displayed above, the images are of dimensions `32x32` with `3` color channels and the labels are one-hot vectors `[0-9]`. Also, you can see that we exclude all but 2 classes, Airplane (0) and Bird (2), to make things simple for this tutorial.\n",
    "\n",
    "As the data is not inherently split into real users, we need to use [ArtificialFederatedDataset](https://apple.github.io/pfl-research/reference/data.html#pfl.data.federated_dataset.ArtificialFederatedDataset) to sample datapoints to create artificial user datasets for federated learning, which in turn requires a function for sampling the length of a user dataset and the actual datapoints of this dataset.\n",
    "\n",
    "Firstly, we define a function which samples the length of a dataset from a Poisson distribution with mean 5:\n"
   ]
  },
  {
   "cell_type": "code",
   "execution_count": 5,
   "metadata": {},
   "outputs": [
    {
     "data": {
      "image/png": "[encoded data removed]",
      "text/plain": [
       "<Figure size 640x480 with 1 Axes>"
      ]
     },
     "metadata": {},
     "output_type": "display_data"
    }
   ],
   "source": [
    "def user_dataset_len_sampler():\n",
    "    while True:\n",
    "        length = np.random.poisson(5)\n",
    "        if length > 0:\n",
    "            return length\n",
    "\n",
    "\n",
    "# Visualize sampling from this function.\n",
    "plt.xlabel(\"Number of datapoints for one user\")\n",
    "plt.title(\"Distribution of user dataset length\")\n",
    "plt.hist([user_dataset_len_sampler() for _ in range(100000)])\n",
    "plt.show()"
   ]
  },
  {
   "cell_type": "markdown",
   "metadata": {},
   "source": [
    "Secondly, we define a function `Callable[[length: int], List[int]]` which samples a set of datapoint identifiers of a given length. We use the helper function `get_data_sampler` to build a sampler which draws a set of datapoints uniformly. This will result in IID user datasets. When doing this for your use case you might want to consider sampling in a way which creates more realistic and heterogeneous user datasets.\n"
   ]
  },
  {
   "cell_type": "code",
   "execution_count": 6,
   "metadata": {},
   "outputs": [
    {
     "name": "stdout",
     "output_type": "stream",
     "text": [
      "Sampled a user dataset of length 5 with datapoint ids  [7192 2501 4752 3850 5314]\n"
     ]
    }
   ],
   "source": [
    "from pfl.data.sampling import get_data_sampler\n",
    "\n",
    "train_data_sampler = get_data_sampler(\"random\", len(train_images))\n",
    "val_data_sampler = get_data_sampler(\"random\", len(val_images))\n",
    "\n",
    "print(\"Sampled a user dataset of length 5 with datapoint ids \", train_data_sampler(5))"
   ]
  },
  {
   "cell_type": "markdown",
   "metadata": {},
   "source": [
    "Thirdly, the federated datasets are initialized using the above sampling functions. We also create a central dataset for central evaluation.\n"
   ]
  },
  {
   "cell_type": "code",
   "execution_count": 7,
   "metadata": {},
   "outputs": [],
   "source": [
    "from pfl.data.federated_dataset import ArtificialFederatedDataset\n",
    "from pfl.data.dataset import Dataset\n",
    "\n",
    "train_federated_dataset = ArtificialFederatedDataset.from_slices(\n",
    "    [train_images, train_labels], train_data_sampler, user_dataset_len_sampler\n",
    ")\n",
    "val_federated_dataset = ArtificialFederatedDataset.from_slices(\n",
    "    [val_images, val_labels], val_data_sampler, user_dataset_len_sampler\n",
    ")\n",
    "central_data = Dataset(raw_data=[val_images, val_labels])"
   ]
  },
  {
   "cell_type": "markdown",
   "metadata": {},
   "source": [
    "When iterating through an artificial federated dataset, a user dataset is sampled every iteration.\n"
   ]
  },
  {
   "cell_type": "code",
   "execution_count": 8,
   "metadata": {},
   "outputs": [
    {
     "name": "stdout",
     "output_type": "stream",
     "text": [
      "User: <pfl.data.dataset.Dataset object at 0x7f8c1fa530d0>, unique user seed: 385465319\n"
     ]
    },
    {
     "data": {
      "image/png": "[encoded data removed]",
      "text/plain": [
       "<Figure size 1200x600 with 3 Axes>"
      ]
     },
     "metadata": {},
     "output_type": "display_data"
    }
   ],
   "source": [
    "user, seed = next(train_federated_dataset)\n",
    "print(\"User: {}, unique user seed: {}\".format(user, seed))\n",
    "fig, axes = plt.subplots(1, len(user), figsize=(12, 6))\n",
    "for ax, image, label in zip(axes, *user.raw_data):\n",
    "    ax.set_title(\"label={}\".format(np.argmax(label)))\n",
    "    ax.imshow((image.reshape(3, 32, 32).transpose(1, 2, 0) * channel_stddevs + channel_means).astype(np.uint8))"
   ]
  },
  {
   "cell_type": "markdown",
   "metadata": {},
   "source": [
    "## 2. Defining the model\n"
   ]
  },
  {
   "cell_type": "markdown",
   "metadata": {},
   "source": [
    "Defining a model in `pfl` is exactly the same as you would normally define a model for training. One of `pfl`’s strengths is that it is agnostic to any Deep Learning framework, which enables `pfl` to support multiple Deep Learning frameworks.\n",
    "\n",
    "At this moment, frameworks supported by `pfl` are TensorFlow and PyTorch.\n",
    "`pfl` also support ML models like GBDTs which use numpy.\n",
    "\n",
    "We will define a Keras model in the exact same way as we would for regular centralized training.\n"
   ]
  },
  {
   "cell_type": "code",
   "execution_count": 9,
   "metadata": {},
   "outputs": [
    {
     "name": "stdout",
     "output_type": "stream",
     "text": [
      "Model: \"model\"\n",
      "_________________________________________________________________\n",
      " Layer (type)                Output Shape              Param #   \n",
      "=================================================================\n",
      " input_1 (InputLayer)        [(None, 32, 32, 3)]       0         \n",
      "                                                                 \n",
      " reshape (Reshape)           (None, 3072)              0         \n",
      "                                                                 \n",
      " dense (Dense)               (None, 50)                153650    \n",
      "                                                                 \n",
      " dense_1 (Dense)             (None, 50)                2550      \n",
      "                                                                 \n",
      " dense_2 (Dense)             (None, 10)                510       \n",
      "                                                                 \n",
      "=================================================================\n",
      "Total params: 156710 (612.15 KB)\n",
      "Trainable params: 156710 (612.15 KB)\n",
      "Non-trainable params: 0 (0.00 Byte)\n",
      "_________________________________________________________________\n"
     ]
    }
   ],
   "source": [
    "from tensorflow.keras.layers import Input, Dense, Reshape\n",
    "from tensorflow.keras.models import Model\n",
    "from tensorflow.keras.optimizers import SGD\n",
    "\n",
    "inputs = Input(shape=(32, 32, 3))\n",
    "inputs_flat = Reshape((3072,), input_shape=(32, 32, 3))(inputs)\n",
    "layer1 = Dense(50, activation=\"relu\")(inputs_flat)\n",
    "layer2 = Dense(50, activation=\"relu\")(layer1)\n",
    "predictions = Dense(10, activation=\"softmax\")(layer2)\n",
    "\n",
    "# configure the model for training,\n",
    "# specifying inputs, outputs, optimiser, loss, metrics, etc.\n",
    "keras_model = Model(inputs=inputs, outputs=predictions)\n",
    "keras_model.compile(SGD(0.01), loss=\"categorical_crossentropy\")\n",
    "\n",
    "keras_model.summary()"
   ]
  },
  {
   "cell_type": "markdown",
   "metadata": {},
   "source": [
    "To train a model using `pfl`, a [Model](https://apple.github.io/pfl-research/reference/model.html#models) object must be instantiated for the Deep Learning framework in which the model was defined. A `pfl` Model acts as an adapter between the model of the Deep Learning framework and `pfl`. We use Keras with TensorFlow for this example.\n",
    "\n",
    "The central optimizer is an input parameter to the model object. This optimizer is used when applying the aggregated model update to the central model.\n"
   ]
  },
  {
   "cell_type": "code",
   "execution_count": 10,
   "metadata": {},
   "outputs": [],
   "source": [
    "from pfl.model.tensorflow import TFModel\n",
    "\n",
    "metrics = {\"accuracy\": tf.keras.metrics.CategoricalAccuracy(), \"loss\": tf.keras.metrics.CategoricalCrossentropy()}\n",
    "model = TFModel(model=keras_model, central_optimizer=tf.keras.optimizers.SGD(1.0), metrics=metrics)"
   ]
  },
  {
   "cell_type": "markdown",
   "metadata": {},
   "source": [
    "## 3. Training a model using Private Federated Learning\n"
   ]
  },
  {
   "cell_type": "markdown",
   "metadata": {},
   "source": [
    "`Backend` is a component in `pfl` used to collect and average statistics from user devices. [SimulatedBackend](https://apple.github.io/pfl-research/reference/aggregate.html#pfl.aggregate.SimulatedBackend) provides simulation. For larger datasets or models, it also [supports distributed simulations](https://apple.github.io/pfl-research/tutorials/simulation_distributed.html) with multiple processes, GPUs and machines.\n",
    "\n",
    "`pfl` provides various privacy mechanisms in [pfl.privacy](https://apple.github.io/pfl-research/reference/privacy.html#module-privacy).\n",
    "These mechanisms are used to guarantee local and/or central differential privacy and are parameterized by `SimulatedBackend` in simulations.\n",
    "\n",
    "Below, we initialize `SimulatedBackend` with Gaussian Moments Accountant as the central differential privacy mechanism, which provides the minimum privacy guarantee required by most use-cases.\n"
   ]
  },
  {
   "cell_type": "code",
   "execution_count": 11,
   "metadata": {},
   "outputs": [],
   "source": [
    "from pfl.aggregate.simulate import SimulatedBackend\n",
    "from pfl.privacy import CentrallyAppliedPrivacyMechanism, GaussianMechanism, PLDPrivacyAccountant\n",
    "from pfl.serverless.backend.simulate import SimulatedServerlessBackend\n",
    "\n",
    "cohort_size = 200\n",
    "central_num_iterations = 5\n",
    "population = 1e7\n",
    "\n",
    "# Use Gaussian Moments Accountant, and transform it to a central privacy mechanism.\n",
    "# accountant = PLDPrivacyAccountant(\n",
    "#     num_compositions=central_num_iterations,\n",
    "#     sampling_probability=cohort_size / population,\n",
    "#     mechanism=\"gaussian\",\n",
    "#     epsilon=2,\n",
    "#     delta=1e-5,\n",
    "# )\n",
    "# central_privacy = CentrallyAppliedPrivacyMechanism(\n",
    "#     GaussianMechanism.from_privacy_accountant(accountant=accountant, clipping_bound=1.0)\n",
    "# )\n",
    "\n",
    "# Instantiate simulated federated averaging\n",
    "# simulated_backend = SimulatedBackend(\n",
    "#     training_data=train_federated_dataset, val_data=val_federated_dataset, postprocessors=[central_privacy]\n",
    "# )\n",
    "\n",
    "simulated_backend = SimulatedServerlessBackend(\n",
    "    training_data=train_federated_dataset, val_data=val_federated_dataset, postprocessors=[]\n",
    ")"
   ]
  },
  {
   "cell_type": "markdown",
   "metadata": {},
   "source": [
    "The main component of a `pfl` modeling setup is the algorithm. In this tutorial, we will be using the [Federated Averaging](https://arxiv.org/pdf/1602.05629.pdf) algorithm. `pfl` implements Federated Averaging using the class [FederatedAveraging](https://apple.github.io/pfl-research/reference/algorithm.html#pfl.algorithm.federated_averaging.FederatedAveraging).\n",
    "\n",
    "Everything is tied together in the `run` method of an algorithm. This method requires the model, backend, optional callbacks, as well as hyperparameters, which depends on the model and algorithm combination. In this case, training a neural network with federated averaging requires a `NNTrainHyperParams` and `NNAlgorithmParams`.\n",
    "\n",
    "Important hyperparameters for federated learning include `local_learning_rate` and `local_num_epochs` which respectively specify the learning rate and the number of training epochs to be used for local training on devices during federated averaging. These hyperparameters differ to `central_learning_rate` and `central_num_iterations` which apply to training the central model using aggregated updates from devices.\n"
   ]
  },
  {
   "cell_type": "code",
   "execution_count": 12,
   "metadata": {},
   "outputs": [
    {
     "name": "stdout",
     "output_type": "stream",
     "text": [
      "SimpleStoreConfig(name='simple', params=EmptyConfigParams())\n",
      "1\n",
      "pickling model\n",
      "done pickling model\n",
      "pickling iteration\n",
      "done pickling iteration\n",
      "pickling algorithm_params\n",
      "done pickling algorithm_params\n",
      "pickling model_train_params\n",
      "done pickling model_train_params\n",
      "pickling model_eval_params\n",
      "done pickling model_eval_params\n",
      "Time to save data:  0.025182008743286133\n",
      "unpickling model\n",
      "\n",
      "done unpickling model\n",
      "unpickling iteration\n",
      "\n",
      "done unpickling iteration\n",
      "unpickling algorithm_params\n",
      "\n",
      "done unpickling algorithm_params\n",
      "unpickling model_train_params\n",
      "\n",
      "done unpickling model_train_params\n",
      "unpickling model_eval_params\n",
      "\n",
      "done unpickling model_eval_params\n",
      "pickling central_contexts\n",
      "done pickling central_contexts\n",
      "pickling model\n",
      "done pickling model\n",
      "pickling all_metrics\n",
      "done pickling all_metrics\n",
      "Time to run function:  0.12487053871154785\n",
      "unpickling central_contexts\n",
      "\n",
      "done unpickling central_contexts\n",
      "unpickling model\n",
      "\n",
      "done unpickling model\n",
      "unpickling all_metrics\n",
      "\n",
      "done unpickling all_metrics\n",
      "WARNING:tensorflow:5 out of the last 6 calls to <function clone at 0x7f8cb9698310> triggered tf.function retracing. Tracing is expensive and the excessive number of tracings could be due to (1) creating @tf.function repeatedly in a loop, (2) passing tensors with different shapes, (3) passing Python objects instead of tensors. For (1), please define your @tf.function outside of the loop. For (2), @tf.function has reduce_retracing=True option that can avoid unnecessary retracing. For (3), please refer to https://www.tensorflow.org/guide/function#controlling_retracing and https://www.tensorflow.org/api_docs/python/tf/function for  more details.\n",
      "Metrics at iteration 0 ():\n",
      "    Central val | accuracy                            : 0.02850000001490116\n",
      "    Central val | loss                                : 2.735551595687866\n",
      "    Central val | number of data points               : 2000.0\n",
      "    Train population | number of devices              : 0\n",
      "    Train population | number of data points          : 0.0\n",
      "    Train population | accuracy before local training : 0.5861732959747314\n",
      "    Train population | loss before local training     : 1.9235130548477173\n",
      "    Train population | accuracy after local training  : 0.7984420657157898\n",
      "    Train population | loss after local training      : 0.6926832795143127\n",
      "    Train population | total weight                   : 1.0\n",
      "    Number of parameters                              : 156710\n",
      "    Val population | number of devices                : 0\n",
      "    Val population | number of data points            : 0.0\n",
      "    Val population | accuracy before local training   : 0.0\n",
      "    Val population | loss before local training       : 2.7971973419189453\n",
      "    Learning rate                                     : 1.0\n",
      "1\n",
      "pickling model\n",
      "done pickling model\n",
      "pickling iteration\n",
      "done pickling iteration\n",
      "pickling algorithm_params\n",
      "done pickling algorithm_params\n",
      "pickling model_train_params\n",
      "done pickling model_train_params\n",
      "pickling model_eval_params\n",
      "done pickling model_eval_params\n",
      "Time to save data:  0.01121830940246582\n",
      "unpickling model\n",
      "\n",
      "done unpickling model\n",
      "unpickling iteration\n",
      "\n",
      "done unpickling iteration\n",
      "unpickling algorithm_params\n",
      "\n",
      "done unpickling algorithm_params\n",
      "unpickling model_train_params\n",
      "\n",
      "done unpickling model_train_params\n",
      "unpickling model_eval_params\n",
      "\n",
      "done unpickling model_eval_params\n",
      "pickling central_contexts\n",
      "done pickling central_contexts\n",
      "pickling model\n",
      "done pickling model\n",
      "pickling all_metrics\n",
      "done pickling all_metrics\n",
      "Time to run function:  0.10645246505737305\n",
      "unpickling central_contexts\n",
      "\n",
      "done unpickling central_contexts\n",
      "unpickling model\n",
      "\n",
      "done unpickling model\n",
      "unpickling all_metrics\n",
      "\n",
      "done unpickling all_metrics\n",
      "Metrics at iteration 1 ():\n",
      "    Train population | number of devices              : 0\n",
      "    Train population | number of data points          : 0.0\n",
      "    Train population | total weight                   : 1.0\n",
      "    Number of parameters                              : 156710\n",
      "    Learning rate                                     : 1.0\n",
      "1\n",
      "pickling model\n",
      "done pickling model\n",
      "pickling iteration\n",
      "done pickling iteration\n",
      "pickling algorithm_params\n",
      "done pickling algorithm_params\n",
      "pickling model_train_params\n",
      "done pickling model_train_params\n",
      "pickling model_eval_params\n",
      "done pickling model_eval_params\n",
      "Time to save data:  0.008203983306884766\n",
      "unpickling model\n",
      "\n",
      "done unpickling model\n",
      "unpickling iteration\n",
      "\n",
      "done unpickling iteration\n",
      "unpickling algorithm_params\n",
      "\n",
      "done unpickling algorithm_params\n",
      "unpickling model_train_params\n",
      "\n",
      "done unpickling model_train_params\n",
      "unpickling model_eval_params\n",
      "\n",
      "done unpickling model_eval_params\n",
      "pickling central_contexts\n",
      "done pickling central_contexts\n",
      "pickling model\n",
      "done pickling model\n",
      "pickling all_metrics\n",
      "done pickling all_metrics\n",
      "Time to run function:  0.0954430103302002\n",
      "unpickling central_contexts\n",
      "\n",
      "done unpickling central_contexts\n",
      "unpickling model\n",
      "\n",
      "done unpickling model\n",
      "unpickling all_metrics\n",
      "\n",
      "done unpickling all_metrics\n",
      "Metrics at iteration 2 ():\n",
      "    Train population | number of devices              : 0\n",
      "    Train population | number of data points          : 0.0\n",
      "    Train population | total weight                   : 1.0\n",
      "    Number of parameters                              : 156710\n",
      "    Learning rate                                     : 1.0\n",
      "1\n",
      "pickling model\n",
      "done pickling model\n",
      "pickling iteration\n",
      "done pickling iteration\n",
      "pickling algorithm_params\n",
      "done pickling algorithm_params\n",
      "pickling model_train_params\n",
      "done pickling model_train_params\n",
      "pickling model_eval_params\n",
      "done pickling model_eval_params\n",
      "Time to save data:  0.008655071258544922\n",
      "unpickling model\n",
      "\n",
      "done unpickling model\n",
      "unpickling iteration\n",
      "\n",
      "done unpickling iteration\n",
      "unpickling algorithm_params\n",
      "\n",
      "done unpickling algorithm_params\n",
      "unpickling model_train_params\n",
      "\n",
      "done unpickling model_train_params\n",
      "unpickling model_eval_params\n",
      "\n",
      "done unpickling model_eval_params\n",
      "pickling central_contexts\n",
      "done pickling central_contexts\n",
      "pickling model\n",
      "done pickling model\n",
      "pickling all_metrics\n",
      "done pickling all_metrics\n",
      "Time to run function:  0.06978154182434082\n",
      "unpickling central_contexts\n",
      "\n",
      "done unpickling central_contexts\n",
      "unpickling model\n",
      "\n",
      "done unpickling model\n",
      "unpickling all_metrics\n",
      "\n",
      "done unpickling all_metrics\n",
      "Metrics at iteration 3 ():\n",
      "    Train population | number of devices              : 0\n",
      "    Train population | number of data points          : 0.0\n",
      "    Train population | total weight                   : 1.0\n",
      "    Number of parameters                              : 156710\n",
      "    Learning rate                                     : 1.0\n",
      "1\n",
      "pickling model\n",
      "done pickling model\n",
      "pickling iteration\n",
      "done pickling iteration\n",
      "pickling algorithm_params\n",
      "done pickling algorithm_params\n",
      "pickling model_train_params\n",
      "done pickling model_train_params\n",
      "pickling model_eval_params\n",
      "done pickling model_eval_params\n",
      "Time to save data:  0.007978200912475586\n",
      "unpickling model\n",
      "\n",
      "done unpickling model\n",
      "unpickling iteration\n",
      "\n",
      "done unpickling iteration\n",
      "unpickling algorithm_params\n",
      "\n",
      "done unpickling algorithm_params\n",
      "unpickling model_train_params\n",
      "\n",
      "done unpickling model_train_params\n",
      "unpickling model_eval_params\n",
      "\n",
      "done unpickling model_eval_params\n",
      "pickling central_contexts\n",
      "done pickling central_contexts\n",
      "pickling model\n",
      "done pickling model\n",
      "pickling all_metrics\n",
      "done pickling all_metrics\n",
      "Time to run function:  0.07326745986938477\n",
      "unpickling central_contexts\n",
      "\n",
      "done unpickling central_contexts\n",
      "unpickling model\n",
      "\n",
      "done unpickling model\n",
      "unpickling all_metrics\n",
      "\n",
      "done unpickling all_metrics\n",
      "Metrics at iteration 4 ():\n",
      "    Train population | number of devices              : 0\n",
      "    Train population | number of data points          : 0.0\n",
      "    Train population | accuracy before local training : 0.5371312499046326\n",
      "    Train population | loss before local training     : 0.9006264209747314\n",
      "    Train population | accuracy after local training  : 0.5371312499046326\n",
      "    Train population | loss after local training      : 0.9006264209747314\n",
      "    Train population | total weight                   : 1.0\n",
      "    Number of parameters                              : 156710\n",
      "    Val population | number of devices                : 0\n",
      "    Val population | number of data points            : 0.0\n",
      "    Val population | accuracy before local training   : 0.49056604504585266\n",
      "    Val population | loss before local training       : 1.0745035409927368\n",
      "    Learning rate                                     : 1.0\n",
      "    Central val | accuracy                            : 0.5644999742507935\n",
      "    Central val | loss                                : 0.9026451706886292\n",
      "    Central val | number of data points               : 2000.0\n",
      "1\n",
      "pickling model\n",
      "done pickling model\n",
      "pickling iteration\n",
      "done pickling iteration\n",
      "pickling algorithm_params\n",
      "done pickling algorithm_params\n",
      "pickling model_train_params\n",
      "done pickling model_train_params\n",
      "pickling model_eval_params\n",
      "done pickling model_eval_params\n",
      "Time to save data:  0.013594865798950195\n",
      "unpickling model\n",
      "\n",
      "done unpickling model\n",
      "unpickling iteration\n",
      "\n",
      "done unpickling iteration\n",
      "unpickling algorithm_params\n",
      "\n",
      "done unpickling algorithm_params\n",
      "unpickling model_train_params\n",
      "\n",
      "done unpickling model_train_params\n",
      "unpickling model_eval_params\n",
      "\n",
      "done unpickling model_eval_params\n",
      "pickling central_contexts\n",
      "done pickling central_contexts\n",
      "pickling model\n",
      "done pickling model\n",
      "pickling all_metrics\n",
      "done pickling all_metrics\n",
      "Time to run function:  0.08740401268005371\n",
      "unpickling central_contexts\n",
      "\n",
      "done unpickling central_contexts\n",
      "unpickling model\n",
      "\n",
      "done unpickling model\n",
      "unpickling all_metrics\n",
      "\n",
      "done unpickling all_metrics\n"
     ]
    },
    {
     "data": {
      "text/plain": [
       "<pfl.model.tensorflow.TFModel at 0x7f8c68255900>"
      ]
     },
     "execution_count": 12,
     "metadata": {},
     "output_type": "execute_result"
    }
   ],
   "source": [
    "from pfl.algorithm import FederatedAveraging, NNAlgorithmParams\n",
    "import pfl.algorithm.serverless.federated_averaging as serverless\n",
    "from pfl.callback import CentralEvaluationCallback\n",
    "from pfl.hyperparam import NNTrainHyperParams, NNEvalHyperParams\n",
    "import importlib\n",
    "\n",
    "os.environ[\"PFL_GRAPH_CACHE\"] = \"false\"\n",
    "\n",
    "importlib.reload(serverless)\n",
    "# %load_ext autoreload\n",
    "# %autoreload 2\n",
    "\n",
    "%load_ext autoreload\n",
    "%autoreload\n",
    "\n",
    "model_train_params = NNTrainHyperParams(local_learning_rate=0.05, local_num_epochs=2, local_batch_size=5)\n",
    "\n",
    "# Do full-batch evaluation to run faster.\n",
    "model_eval_params = NNEvalHyperParams(local_batch_size=None)\n",
    "\n",
    "algorithm_params = NNAlgorithmParams(\n",
    "    central_num_iterations=central_num_iterations,\n",
    "    evaluation_frequency=4,\n",
    "    train_cohort_size=cohort_size,\n",
    "    val_cohort_size=10,\n",
    ")\n",
    "\n",
    "callbacks = [CentralEvaluationCallback(central_data, model_eval_params, 4)]\n",
    "\n",
    "algorithm = serverless.ServerlessFederatedAveraging()\n",
    "algorithm.run(\n",
    "    backend=simulated_backend,\n",
    "    model=model,\n",
    "    algorithm_params=algorithm_params,\n",
    "    model_train_params=model_train_params,\n",
    "    model_eval_params=model_eval_params,\n",
    "    callbacks=callbacks,\n",
    ")"
   ]
  },
  {
   "cell_type": "markdown",
   "metadata": {},
   "source": [
    "## Next steps\n",
    "\n",
    "This concludes the basics for simulating PFL using a simple dataset with TensorFlow.\n",
    "\n",
    "- If you want to learn more about how to do research with `pfl`, check out [this tutorial](https://github.com/apple/pfl-research/tree/main/tutorials/Introduction%20to%20PFL%20research%20with%20FLAIR.ipynb) in PyTorch.\n",
    "- If you want to try the benchmark suite and learn setups for different datasets and models, see [our benchmark setups](https://github.com/apple/pfl-research/tree/main/benchmarks).\n"
   ]
  },
  {
   "cell_type": "code",
   "execution_count": null,
   "metadata": {},
   "outputs": [],
   "source": []
  }
 ],
 "metadata": {
  "kernelspec": {
   "display_name": "Python 3",
   "language": "python",
   "name": "python3"
  },
  "language_info": {
   "codemirror_mode": {
    "name": "ipython",
    "version": 3
   },
   "file_extension": ".py",
   "mimetype": "text/x-python",
   "name": "python",
   "nbconvert_exporter": "python",
   "pygments_lexer": "ipython3",
   "version": "3.10.6"
  }
 },
 "nbformat": 4,
 "nbformat_minor": 4
}
